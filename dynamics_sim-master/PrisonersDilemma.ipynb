{
 "cells": [
  {
   "cell_type": "code",
   "execution_count": 1,
   "metadata": {},
   "outputs": [
    {
     "ename": "SyntaxError",
     "evalue": "invalid syntax (Temp/ipykernel_5636/3543726212.py, line 8)",
     "output_type": "error",
     "traceback": [
      "\u001b[1;36m  File \u001b[1;32m\"C:\\Users\\manoj\\AppData\\Local\\Temp/ipykernel_5636/3543726212.py\"\u001b[1;36m, line \u001b[1;32m8\u001b[0m\n\u001b[1;33m    DEFAULT_PARAMS = dict(R:3, S=0,T=5,P=1, bias_strength=0)\u001b[0m\n\u001b[1;37m                           ^\u001b[0m\n\u001b[1;31mSyntaxError\u001b[0m\u001b[1;31m:\u001b[0m invalid syntax\n"
     ]
    }
   ],
   "source": [
    "from games.game import SymmetricNPlayerGame\n",
    "from wrapper import GameDynamicsWrapper\n",
    "from dynamics.moran import Moran\n",
    "\n",
    "#Class that defines the Prisoner's Dilemma game.\n",
    "\n",
    "class PrisonersDilemma(SymmetricNPlayerGame):\n",
    "    DEFAULT_PARAMS = dict(R=3, S=0,T=5,P=1, bias_strength=0)\n",
    "    #List of strategies\n",
    "    STRATEGY_LABELS = ('Cooperate','Defect')\n",
    "    #List of equilibria\n",
    "    EQUILIBRIA_LABELS =  ('Cooperation','Defection')\n",
    "\n",
    "    def __init__(self, R,S,T,P, bias_strength=0):\n",
    "        #DEFINE THE PAYOFF MATRIX\n",
    "        payoff_matrix = ((R,S),(T,P))\n",
    "        super(PrisonersDilemma,self).__init__(payoff_matrix,1,bias_strength)\n",
    "    @classmethod\n",
    "    #function that defines the equilibria\n",
    "    def classify(cls, params, state, tolerance):\n",
    "        threshold = 1-tolerance\n",
    "        if state[0][0] > threshold:\n",
    "            return 0 # cooperate\n",
    "        elif state[0][1] > threshold:\n",
    "            return 1 # defect\n",
    "        return super(PrisonersDilemma,cls).classify(params, state, tolerance)\n",
    "\n",
    "s=GameDynamicsWrapper(PrisonersDilemma,Moran,dynamics_kwargs={'mu' :0})\n",
    "s.simulate(num_gens=2000, pop_size=100, graph=dict(area=True,options=['smallfont']))"
   ]
  }
 ],
 "metadata": {
  "interpreter": {
   "hash": "63fd5069d213b44bf678585dea6b12cceca9941eaf7f819626cde1f2670de90d"
  },
  "kernelspec": {
   "display_name": "Python 3.9.2 64-bit",
   "name": "python3"
  },
  "language_info": {
   "codemirror_mode": {
    "name": "ipython",
    "version": 3
   },
   "file_extension": ".py",
   "mimetype": "text/x-python",
   "name": "python",
   "nbconvert_exporter": "python",
   "pygments_lexer": "ipython3",
   "version": "3.9.2"
  },
  "orig_nbformat": 4
 },
 "nbformat": 4,
 "nbformat_minor": 2
}
