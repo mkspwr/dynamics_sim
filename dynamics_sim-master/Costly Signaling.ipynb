{
 "cells": [
  {
   "cell_type": "code",
   "execution_count": 17,
   "metadata": {},
   "outputs": [],
   "source": [
    "from games.game import Game\n",
    "from wrapper import GameDynamicsWrapper\n",
    "from wrapper import VariedGame\n",
    "from dynamics.replicator import Replicator\n",
    "from dynamics.wright_fisher import WrightFisher\n",
    "from dynamics.moran import Moran\n",
    "%matplotlib inline\n",
    "\n",
    "class Costly_Signaling(Game):\n",
    "    DEFAULT_PARAMS = dict(lCost=3, hCost=1, a=5, aHigh=10, aLow=-10, lProp=2, hProp=1, bias_strength=0)\n",
    "    PLAYER_LABELS = ('Low Sender', 'High Sender', 'Receiver')\n",
    "    STRATEGY_LABELS = (('No', 'Low', 'Medium', 'High'),\n",
    "                        ('No', 'Low', 'Medium', 'High'),\n",
    "                        ('Accept all','Accept Low','Accept Medium','Accept High','Reject All'))\n",
    "\n",
    "    def __init__(self, lCost, hCost, a, aHigh, aLow, lProp, hProp, bias_strength, equilibrium_tolerance=0.2):\n",
    "        lProp, hProp = lProp/(lProp+hProp), hProp/(lProp+hProp)\n",
    "        lProp /= 2\n",
    "        hProp /= 2\n",
    "\n",
    "        payoff_matrix_p1 = [[[0 for x in range(5)] for x in range(4)] for x in range(4)]\n",
    "        for i1, lowSenderStrat in enumerate(payoff_matrix_p1):\n",
    "            for i2, highSenderStrat in enumerate(lowSenderStrat):\n",
    "                for i3, payoff in enumerate(highSenderStrat):\n",
    "                    if i1 >= i3:\n",
    "                        payoff_matrix_p1[i1][i2][i3] += a\n",
    "                    payoff_matrix_p1[i1][i2][i3] -= lCost * i1\n",
    "\n",
    "        payoff_matrix_p2 = [[[0 for x in range(5)] for x in range(4)] for x in range(4)]\n",
    "        for i1, lowSenderStrat in enumerate(payoff_matrix_p1):\n",
    "            for i2, highSenderStrat in enumerate(lowSenderStrat):\n",
    "                for i3, payoff in enumerate(highSenderStrat):\n",
    "                    if i2 >= i3:\n",
    "                        payoff_matrix_p2[i1][i2][i3] += a\n",
    "                    payoff_matrix_p2[i1][i2][i3] -= hCost * i2\n",
    "\n",
    "        payoff_matrix_p3 = [[[0 for x in range(5)] for x in range(4)] for x in range(4)]\n",
    "        for i1, lowSenderStrat in enumerate(payoff_matrix_p1):\n",
    "            for i2, highSenderStrat in enumerate(lowSenderStrat):\n",
    "                for i3, payoff in enumerate(highSenderStrat):\n",
    "                    if i1 >= i3:#Low sender accepted\n",
    "                        payoff_matrix_p3[i1][i2][i3] += aLow * lProp\n",
    "                    if i2 >= i3:\n",
    "                        payoff_matrix_p3[i1][i2][i3] += aHigh * hProp\n",
    "\n",
    "        payoff_matrix = [payoff_matrix_p1, payoff_matrix_p2, payoff_matrix_p3]\n",
    "\n",
    "        player_dist = (lProp, hProp, 1/2)\n",
    "\n",
    "        super(Costly_Signaling, self).__init__(payoff_matrices=payoff_matrix, \\\n",
    "            player_frequencies=player_dist, bias_strength=bias_strength, equilibrium_tolerance=equilibrium_tolerance)\n",
    "\n",
    "\n"
   ]
  },
  {
   "cell_type": "code",
   "execution_count": null,
   "metadata": {},
   "outputs": [],
   "source": [
    "def test_single_simulation(self):\n",
    "    s = GameDynamicsWrapper(Costly_Signaling, WrightFisher)\n",
    "    s.simulate(num_gens=50, graph=dict(area=True),options=['smallfont'])\n",
    "    #s.simulate(num_gens=100,pop_size=100,graph=dict(area=True,options=['smallfont']))"
   ]
  }
 ],
 "metadata": {
  "interpreter": {
   "hash": "63fd5069d213b44bf678585dea6b12cceca9941eaf7f819626cde1f2670de90d"
  },
  "kernelspec": {
   "display_name": "Python 3.9.2 64-bit",
   "name": "python3"
  },
  "language_info": {
   "codemirror_mode": {
    "name": "ipython",
    "version": 3
   },
   "file_extension": ".py",
   "mimetype": "text/x-python",
   "name": "python",
   "nbconvert_exporter": "python",
   "pygments_lexer": "ipython3",
   "version": "3.9.2"
  },
  "orig_nbformat": 4
 },
 "nbformat": 4,
 "nbformat_minor": 2
}
