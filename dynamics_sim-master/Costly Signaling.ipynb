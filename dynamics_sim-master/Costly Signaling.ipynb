{
 "cells": [
  {
   "cell_type": "code",
   "execution_count": 3,
   "metadata": {},
   "outputs": [],
   "source": [
    "from games.game import Game\n",
    "from wrapper import VariedGame\n",
    "from dynamics.replicator import Replicator\n",
    "from dynamics.wright_fisher import WrightFisher\n",
    "from wrapper import GameDynamicsWrapper\n",
    "from dynamics.moran import Moran\n",
    "%matplotlib inline\n",
    "\n",
    "class Costly_Signaling(Game):\n",
    "    DEFAULT_PARAMS = dict(lCost=3, hCost=1, a=5, aHigh=10, aLow=-10, lProp=2, hProp=1, bias_strength=0)\n",
    "    PLAYER_LABELS = ('Low Sender', 'High Sender', 'Receiver')\n",
    "    STRATEGY_LABELS = (('No', 'Low', 'Medium', 'High'),\n",
    "                        ('No', 'Low', 'Medium', 'High'),\n",
    "                        ('Accept all','Accept Low','Accept Medium','Accept High','Reject All'))\n",
    "\n",
    "    def __init__(self, lCost=3, hCost=1, a=5, aHigh=10, aLow=-10, lProp=2, hProp=1, bias_strength=0, equilibrium_tolerance=0.2):\n",
    "        lProp, hProp = lProp/(lProp+hProp), hProp/(lProp+hProp)\n",
    "        lProp /= 2\n",
    "        hProp /= 2\n",
    "\n",
    "        payoff_matrix_p1 = [[[0 for x in range(5)] for x in range(4)] for x in range(4)]\n",
    "        for i1, lowSenderStrat in enumerate(payoff_matrix_p1):\n",
    "            for i2, highSenderStrat in enumerate(lowSenderStrat):\n",
    "                for i3, payoff in enumerate(highSenderStrat):\n",
    "                    if i1 >= i3:\n",
    "                        payoff_matrix_p1[i1][i2][i3] += a\n",
    "                    payoff_matrix_p1[i1][i2][i3] -= lCost * i1\n",
    "\n",
    "        payoff_matrix_p2 = [[[0 for x in range(5)] for x in range(4)] for x in range(4)]\n",
    "        for i1, lowSenderStrat in enumerate(payoff_matrix_p1):\n",
    "            for i2, highSenderStrat in enumerate(lowSenderStrat):\n",
    "                for i3, payoff in enumerate(highSenderStrat):\n",
    "                    if i2 >= i3:\n",
    "                        payoff_matrix_p2[i1][i2][i3] += a\n",
    "                    payoff_matrix_p2[i1][i2][i3] -= hCost * i2\n",
    "\n",
    "        payoff_matrix_p3 = [[[0 for x in range(5)] for x in range(4)] for x in range(4)]\n",
    "        for i1, lowSenderStrat in enumerate(payoff_matrix_p1):\n",
    "            for i2, highSenderStrat in enumerate(lowSenderStrat):\n",
    "                for i3, payoff in enumerate(highSenderStrat):\n",
    "                    if i1 >= i3:#Low sender accepted\n",
    "                        payoff_matrix_p3[i1][i2][i3] += aLow * lProp\n",
    "                    if i2 >= i3:\n",
    "                        payoff_matrix_p3[i1][i2][i3] += aHigh * hProp\n",
    "\n",
    "        payoff_matrix = [payoff_matrix_p1, payoff_matrix_p2, payoff_matrix_p3]\n",
    "\n",
    "        player_dist = (lProp, hProp, 1/2)\n",
    "\n",
    "        super(Costly_Signaling, self).__init__(payoff_matrices=payoff_matrix, \\\n",
    "            player_frequencies=player_dist, bias_strength=bias_strength, equilibrium_tolerance=equilibrium_tolerance)\n",
    "\n",
    "    def test_single_simulation(self):\n",
    "        s = GameDynamicsWrapper(Costly_Signaling, WrightFisher)\n",
    "        s.simulate(num_gens=100, graph=dict(area=True,options=['smallfont']))\n",
    "        #s.simulate(num_gens=100,pop_size=100,graph=dict(area=True,options=['smallfont']))\n",
    "\n"
   ]
  },
  {
   "cell_type": "code",
   "execution_count": 4,
   "metadata": {},
   "outputs": [
    {
     "ename": "NameError",
     "evalue": "name 'GameDynamicsWrapper' is not defined",
     "output_type": "error",
     "traceback": [
      "\u001b[1;31m---------------------------------------------------------------------------\u001b[0m",
      "\u001b[1;31mNameError\u001b[0m                                 Traceback (most recent call last)",
      "\u001b[1;32m~\\AppData\\Local\\Temp/ipykernel_13016/1849917388.py\u001b[0m in \u001b[0;36m<module>\u001b[1;34m\u001b[0m\n\u001b[0;32m      1\u001b[0m \u001b[0mabc\u001b[0m \u001b[1;33m=\u001b[0m \u001b[0mCostly_Signaling\u001b[0m\u001b[1;33m(\u001b[0m\u001b[1;33m)\u001b[0m\u001b[1;33m\u001b[0m\u001b[1;33m\u001b[0m\u001b[0m\n\u001b[1;32m----> 2\u001b[1;33m \u001b[0mabc\u001b[0m\u001b[1;33m.\u001b[0m\u001b[0mtest_single_simulation\u001b[0m\u001b[1;33m(\u001b[0m\u001b[1;33m)\u001b[0m\u001b[1;33m\u001b[0m\u001b[1;33m\u001b[0m\u001b[0m\n\u001b[0m",
      "\u001b[1;32m~\\AppData\\Local\\Temp/ipykernel_13016/1126233529.py\u001b[0m in \u001b[0;36mtest_single_simulation\u001b[1;34m(self)\u001b[0m\n\u001b[0;32m     51\u001b[0m \u001b[1;33m\u001b[0m\u001b[0m\n\u001b[0;32m     52\u001b[0m     \u001b[1;32mdef\u001b[0m \u001b[0mtest_single_simulation\u001b[0m\u001b[1;33m(\u001b[0m\u001b[0mself\u001b[0m\u001b[1;33m)\u001b[0m\u001b[1;33m:\u001b[0m\u001b[1;33m\u001b[0m\u001b[1;33m\u001b[0m\u001b[0m\n\u001b[1;32m---> 53\u001b[1;33m         \u001b[0ms\u001b[0m \u001b[1;33m=\u001b[0m \u001b[0mGameDynamicsWrapper\u001b[0m\u001b[1;33m(\u001b[0m\u001b[0mCostly_Signaling\u001b[0m\u001b[1;33m,\u001b[0m \u001b[0mWrightFisher\u001b[0m\u001b[1;33m)\u001b[0m\u001b[1;33m\u001b[0m\u001b[1;33m\u001b[0m\u001b[0m\n\u001b[0m\u001b[0;32m     54\u001b[0m         \u001b[0ms\u001b[0m\u001b[1;33m.\u001b[0m\u001b[0msimulate\u001b[0m\u001b[1;33m(\u001b[0m\u001b[0mnum_gens\u001b[0m\u001b[1;33m=\u001b[0m\u001b[1;36m100\u001b[0m\u001b[1;33m,\u001b[0m \u001b[0mgraph\u001b[0m\u001b[1;33m=\u001b[0m\u001b[0mdict\u001b[0m\u001b[1;33m(\u001b[0m\u001b[0marea\u001b[0m\u001b[1;33m=\u001b[0m\u001b[1;32mTrue\u001b[0m\u001b[1;33m,\u001b[0m\u001b[0moptions\u001b[0m\u001b[1;33m=\u001b[0m\u001b[1;33m[\u001b[0m\u001b[1;34m'smallfont'\u001b[0m\u001b[1;33m]\u001b[0m\u001b[1;33m)\u001b[0m\u001b[1;33m)\u001b[0m\u001b[1;33m\u001b[0m\u001b[1;33m\u001b[0m\u001b[0m\n\u001b[0;32m     55\u001b[0m         \u001b[1;31m#s.simulate(num_gens=100,pop_size=100,graph=dict(area=True,options=['smallfont']))\u001b[0m\u001b[1;33m\u001b[0m\u001b[1;33m\u001b[0m\u001b[1;33m\u001b[0m\u001b[0m\n",
      "\u001b[1;31mNameError\u001b[0m: name 'GameDynamicsWrapper' is not defined"
     ]
    }
   ],
   "source": [
    "abc = Costly_Signaling()\n",
    "abc.test_single_simulation()"
   ]
  }
 ],
 "metadata": {
  "interpreter": {
   "hash": "63fd5069d213b44bf678585dea6b12cceca9941eaf7f819626cde1f2670de90d"
  },
  "kernelspec": {
   "display_name": "Python 3.9.2 64-bit",
   "name": "python3"
  },
  "language_info": {
   "codemirror_mode": {
    "name": "ipython",
    "version": 3
   },
   "file_extension": ".py",
   "mimetype": "text/x-python",
   "name": "python",
   "nbconvert_exporter": "python",
   "pygments_lexer": "ipython3",
   "version": "3.9.2"
  },
  "orig_nbformat": 4
 },
 "nbformat": 4,
 "nbformat_minor": 2
}
